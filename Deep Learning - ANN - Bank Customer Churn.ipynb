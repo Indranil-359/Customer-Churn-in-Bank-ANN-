{
 "cells": [
  {
   "cell_type": "code",
   "execution_count": 1,
   "metadata": {},
   "outputs": [],
   "source": [
    "import numpy as np\n",
    "import pandas as pd\n",
    "import tensorflow as tf"
   ]
  },
  {
   "cell_type": "code",
   "execution_count": 4,
   "metadata": {},
   "outputs": [
    {
     "data": {
      "text/plain": [
       "'2.1.0'"
      ]
     },
     "execution_count": 4,
     "metadata": {},
     "output_type": "execute_result"
    }
   ],
   "source": [
    "tf.__version__"
   ]
  },
  {
   "cell_type": "code",
   "execution_count": 5,
   "metadata": {},
   "outputs": [],
   "source": [
    "dataset = pd.read_csv('C:/Users/indra/Documents/Udemy/Deep Learning/ANN/Churn_Modelling.csv')\n",
    "X = dataset.iloc[:, 3:-1].values\n",
    "y = dataset.iloc[:, -1].values"
   ]
  },
  {
   "cell_type": "code",
   "execution_count": 7,
   "metadata": {},
   "outputs": [
    {
     "name": "stdout",
     "output_type": "stream",
     "text": [
      "[[619 'France' 'Female' ... 1 1 101348.88]\n",
      " [608 'Spain' 'Female' ... 0 1 112542.58]\n",
      " [502 'France' 'Female' ... 1 0 113931.57]\n",
      " ...\n",
      " [709 'France' 'Female' ... 0 1 42085.58]\n",
      " [772 'Germany' 'Male' ... 1 0 92888.52]\n",
      " [792 'France' 'Female' ... 1 0 38190.78]]\n"
     ]
    }
   ],
   "source": [
    "print(X)"
   ]
  },
  {
   "cell_type": "code",
   "execution_count": 9,
   "metadata": {},
   "outputs": [
    {
     "name": "stdout",
     "output_type": "stream",
     "text": [
      "[1 0 1 ... 1 1 0]\n"
     ]
    }
   ],
   "source": [
    "print(y)"
   ]
  },
  {
   "cell_type": "code",
   "execution_count": 11,
   "metadata": {},
   "outputs": [],
   "source": [
    "from sklearn.preprocessing import LabelEncoder\n",
    "le = LabelEncoder()\n",
    "X[:, 2] = le.fit_transform(X[:, 2])"
   ]
  },
  {
   "cell_type": "code",
   "execution_count": 12,
   "metadata": {},
   "outputs": [
    {
     "name": "stdout",
     "output_type": "stream",
     "text": [
      "[[619 'France' 0 ... 1 1 101348.88]\n",
      " [608 'Spain' 0 ... 0 1 112542.58]\n",
      " [502 'France' 0 ... 1 0 113931.57]\n",
      " ...\n",
      " [709 'France' 0 ... 0 1 42085.58]\n",
      " [772 'Germany' 1 ... 1 0 92888.52]\n",
      " [792 'France' 0 ... 1 0 38190.78]]\n"
     ]
    }
   ],
   "source": [
    "print(X)"
   ]
  },
  {
   "cell_type": "code",
   "execution_count": 13,
   "metadata": {},
   "outputs": [],
   "source": [
    "from sklearn.compose import ColumnTransformer\n",
    "from sklearn.preprocessing import OneHotEncoder\n",
    "ct = ColumnTransformer(transformers=[('encoder', OneHotEncoder(), [1])], remainder='passthrough')\n",
    "X = np.array(ct.fit_transform(X))"
   ]
  },
  {
   "cell_type": "code",
   "execution_count": 14,
   "metadata": {},
   "outputs": [
    {
     "name": "stdout",
     "output_type": "stream",
     "text": [
      "[[1.0 0.0 0.0 ... 1 1 101348.88]\n",
      " [0.0 0.0 1.0 ... 0 1 112542.58]\n",
      " [1.0 0.0 0.0 ... 1 0 113931.57]\n",
      " ...\n",
      " [1.0 0.0 0.0 ... 0 1 42085.58]\n",
      " [0.0 1.0 0.0 ... 1 0 92888.52]\n",
      " [1.0 0.0 0.0 ... 1 0 38190.78]]\n"
     ]
    }
   ],
   "source": [
    "print(X)"
   ]
  },
  {
   "cell_type": "code",
   "execution_count": 15,
   "metadata": {},
   "outputs": [],
   "source": [
    "from sklearn.model_selection import train_test_split\n",
    "X_train, X_test, y_train, y_test = train_test_split(X, y, test_size = 0.2, random_state = 0)"
   ]
  },
  {
   "cell_type": "code",
   "execution_count": 16,
   "metadata": {},
   "outputs": [],
   "source": [
    "from sklearn.preprocessing import StandardScaler\n",
    "sc = StandardScaler()\n",
    "X_train = sc.fit_transform(X_train)\n",
    "X_test = sc.transform(X_test)"
   ]
  },
  {
   "cell_type": "code",
   "execution_count": 17,
   "metadata": {},
   "outputs": [],
   "source": [
    "ann = tf.keras.models.Sequential()"
   ]
  },
  {
   "cell_type": "code",
   "execution_count": 18,
   "metadata": {},
   "outputs": [],
   "source": [
    "ann.add(tf.keras.layers.Dense(units=6, activation='relu'))"
   ]
  },
  {
   "cell_type": "code",
   "execution_count": 19,
   "metadata": {},
   "outputs": [],
   "source": [
    "ann.add(tf.keras.layers.Dense(units=6, activation='relu'))"
   ]
  },
  {
   "cell_type": "code",
   "execution_count": 20,
   "metadata": {},
   "outputs": [],
   "source": [
    "ann.add(tf.keras.layers.Dense(units=1, activation='sigmoid'))"
   ]
  },
  {
   "cell_type": "code",
   "execution_count": 21,
   "metadata": {},
   "outputs": [],
   "source": [
    "ann.compile(optimizer = 'adam', loss = 'binary_crossentropy', metrics = ['accuracy'])"
   ]
  },
  {
   "cell_type": "code",
   "execution_count": 22,
   "metadata": {},
   "outputs": [
    {
     "name": "stdout",
     "output_type": "stream",
     "text": [
      "Train on 8000 samples\n",
      "Epoch 1/100\n",
      "8000/8000 [==============================] - 2s 255us/sample - loss: 0.5255 - accuracy: 0.7949\n",
      "Epoch 2/100\n",
      "8000/8000 [==============================] - 0s 28us/sample - loss: 0.4610 - accuracy: 0.7960\n",
      "Epoch 3/100\n",
      "8000/8000 [==============================] - 0s 29us/sample - loss: 0.4404 - accuracy: 0.7966\n",
      "Epoch 4/100\n",
      "8000/8000 [==============================] - 0s 31us/sample - loss: 0.4331 - accuracy: 0.8010\n",
      "Epoch 5/100\n",
      "8000/8000 [==============================] - 0s 29us/sample - loss: 0.4300 - accuracy: 0.8031\n",
      "Epoch 6/100\n",
      "8000/8000 [==============================] - 0s 29us/sample - loss: 0.4278 - accuracy: 0.8054\n",
      "Epoch 7/100\n",
      "8000/8000 [==============================] - 0s 29us/sample - loss: 0.4261 - accuracy: 0.8054\n",
      "Epoch 8/100\n",
      "8000/8000 [==============================] - 0s 29us/sample - loss: 0.4246 - accuracy: 0.8070\n",
      "Epoch 9/100\n",
      "8000/8000 [==============================] - 0s 30us/sample - loss: 0.4233 - accuracy: 0.8100\n",
      "Epoch 10/100\n",
      "8000/8000 [==============================] - 0s 29us/sample - loss: 0.4227 - accuracy: 0.8092\n",
      "Epoch 11/100\n",
      "8000/8000 [==============================] - 0s 30us/sample - loss: 0.4219 - accuracy: 0.8123\n",
      "Epoch 12/100\n",
      "8000/8000 [==============================] - 0s 29us/sample - loss: 0.4211 - accuracy: 0.8123\n",
      "Epoch 13/100\n",
      "8000/8000 [==============================] - 0s 29us/sample - loss: 0.4204 - accuracy: 0.8154\n",
      "Epoch 14/100\n",
      "8000/8000 [==============================] - 0s 30us/sample - loss: 0.4197 - accuracy: 0.8158\n",
      "Epoch 15/100\n",
      "8000/8000 [==============================] - 0s 30us/sample - loss: 0.4189 - accuracy: 0.8185\n",
      "Epoch 16/100\n",
      "8000/8000 [==============================] - 0s 30us/sample - loss: 0.4180 - accuracy: 0.8191\n",
      "Epoch 17/100\n",
      "8000/8000 [==============================] - 0s 29us/sample - loss: 0.4170 - accuracy: 0.8202\n",
      "Epoch 18/100\n",
      "8000/8000 [==============================] - 0s 29us/sample - loss: 0.4162 - accuracy: 0.8207\n",
      "Epoch 19/100\n",
      "8000/8000 [==============================] - 0s 30us/sample - loss: 0.4154 - accuracy: 0.8242\n",
      "Epoch 20/100\n",
      "8000/8000 [==============================] - 0s 30us/sample - loss: 0.4148 - accuracy: 0.8244\n",
      "Epoch 21/100\n",
      "8000/8000 [==============================] - 0s 31us/sample - loss: 0.4143 - accuracy: 0.8256\n",
      "Epoch 22/100\n",
      "8000/8000 [==============================] - 0s 30us/sample - loss: 0.4136 - accuracy: 0.8249\n",
      "Epoch 23/100\n",
      "8000/8000 [==============================] - 0s 31us/sample - loss: 0.4132 - accuracy: 0.8246\n",
      "Epoch 24/100\n",
      "8000/8000 [==============================] - 0s 30us/sample - loss: 0.4128 - accuracy: 0.8259\n",
      "Epoch 25/100\n",
      "8000/8000 [==============================] - 0s 30us/sample - loss: 0.4121 - accuracy: 0.8249\n",
      "Epoch 26/100\n",
      "8000/8000 [==============================] - 0s 29us/sample - loss: 0.4118 - accuracy: 0.8273\n",
      "Epoch 27/100\n",
      "8000/8000 [==============================] - 0s 31us/sample - loss: 0.4116 - accuracy: 0.8276\n",
      "Epoch 28/100\n",
      "8000/8000 [==============================] - 0s 31us/sample - loss: 0.4108 - accuracy: 0.8264\n",
      "Epoch 29/100\n",
      "8000/8000 [==============================] - 0s 31us/sample - loss: 0.4105 - accuracy: 0.8280\n",
      "Epoch 30/100\n",
      "8000/8000 [==============================] - 0s 31us/sample - loss: 0.4101 - accuracy: 0.8284\n",
      "Epoch 31/100\n",
      "8000/8000 [==============================] - 0s 31us/sample - loss: 0.4097 - accuracy: 0.8298\n",
      "Epoch 32/100\n",
      "8000/8000 [==============================] - 0s 31us/sample - loss: 0.4090 - accuracy: 0.8292\n",
      "Epoch 33/100\n",
      "8000/8000 [==============================] - 0s 31us/sample - loss: 0.4085 - accuracy: 0.8291\n",
      "Epoch 34/100\n",
      "8000/8000 [==============================] - 0s 31us/sample - loss: 0.4084 - accuracy: 0.8299s - loss: 0.3985 - accuracy: \n",
      "Epoch 35/100\n",
      "8000/8000 [==============================] - 0s 31us/sample - loss: 0.4079 - accuracy: 0.8294\n",
      "Epoch 36/100\n",
      "8000/8000 [==============================] - 0s 31us/sample - loss: 0.4073 - accuracy: 0.8300\n",
      "Epoch 37/100\n",
      "8000/8000 [==============================] - 0s 30us/sample - loss: 0.4069 - accuracy: 0.8301\n",
      "Epoch 38/100\n",
      "8000/8000 [==============================] - 0s 31us/sample - loss: 0.4065 - accuracy: 0.8310\n",
      "Epoch 39/100\n",
      "8000/8000 [==============================] - 0s 31us/sample - loss: 0.4063 - accuracy: 0.8316\n",
      "Epoch 40/100\n",
      "8000/8000 [==============================] - 0s 32us/sample - loss: 0.4061 - accuracy: 0.8310\n",
      "Epoch 41/100\n",
      "8000/8000 [==============================] - 0s 30us/sample - loss: 0.4056 - accuracy: 0.8310\n",
      "Epoch 42/100\n",
      "8000/8000 [==============================] - 0s 31us/sample - loss: 0.4054 - accuracy: 0.8315\n",
      "Epoch 43/100\n",
      "8000/8000 [==============================] - 0s 31us/sample - loss: 0.4051 - accuracy: 0.8331\n",
      "Epoch 44/100\n",
      "8000/8000 [==============================] - 0s 31us/sample - loss: 0.4049 - accuracy: 0.8329\n",
      "Epoch 45/100\n",
      "8000/8000 [==============================] - 0s 30us/sample - loss: 0.4047 - accuracy: 0.8316\n",
      "Epoch 46/100\n",
      "8000/8000 [==============================] - 0s 31us/sample - loss: 0.4043 - accuracy: 0.8330\n",
      "Epoch 47/100\n",
      "8000/8000 [==============================] - 0s 31us/sample - loss: 0.4042 - accuracy: 0.8332\n",
      "Epoch 48/100\n",
      "8000/8000 [==============================] - 0s 31us/sample - loss: 0.4040 - accuracy: 0.8340\n",
      "Epoch 49/100\n",
      "8000/8000 [==============================] - 0s 33us/sample - loss: 0.4037 - accuracy: 0.8341\n",
      "Epoch 50/100\n",
      "8000/8000 [==============================] - 0s 32us/sample - loss: 0.4034 - accuracy: 0.8334\n",
      "Epoch 51/100\n",
      "8000/8000 [==============================] - 0s 33us/sample - loss: 0.4033 - accuracy: 0.8339\n",
      "Epoch 52/100\n",
      "8000/8000 [==============================] - 0s 38us/sample - loss: 0.4029 - accuracy: 0.8336\n",
      "Epoch 53/100\n",
      "8000/8000 [==============================] - 0s 35us/sample - loss: 0.4030 - accuracy: 0.8340\n",
      "Epoch 54/100\n",
      "8000/8000 [==============================] - 0s 36us/sample - loss: 0.4026 - accuracy: 0.8338\n",
      "Epoch 55/100\n",
      "8000/8000 [==============================] - 0s 35us/sample - loss: 0.4028 - accuracy: 0.8341\n",
      "Epoch 56/100\n",
      "8000/8000 [==============================] - 0s 28us/sample - loss: 0.4025 - accuracy: 0.8325\n",
      "Epoch 57/100\n",
      "8000/8000 [==============================] - 0s 29us/sample - loss: 0.4022 - accuracy: 0.8351\n",
      "Epoch 58/100\n",
      "8000/8000 [==============================] - 0s 31us/sample - loss: 0.4020 - accuracy: 0.8336\n",
      "Epoch 59/100\n",
      "8000/8000 [==============================] - 0s 34us/sample - loss: 0.4022 - accuracy: 0.8339\n",
      "Epoch 60/100\n",
      "8000/8000 [==============================] - 0s 31us/sample - loss: 0.4018 - accuracy: 0.8339\n",
      "Epoch 61/100\n",
      "8000/8000 [==============================] - 0s 31us/sample - loss: 0.4017 - accuracy: 0.8334\n",
      "Epoch 62/100\n",
      "8000/8000 [==============================] - 0s 31us/sample - loss: 0.4017 - accuracy: 0.8341\n",
      "Epoch 63/100\n",
      "8000/8000 [==============================] - 0s 33us/sample - loss: 0.4014 - accuracy: 0.8338\n",
      "Epoch 64/100\n",
      "8000/8000 [==============================] - 0s 34us/sample - loss: 0.4015 - accuracy: 0.8350\n",
      "Epoch 65/100\n",
      "8000/8000 [==============================] - 0s 37us/sample - loss: 0.4012 - accuracy: 0.8355s - loss: 0.4010 - accura\n",
      "Epoch 66/100\n",
      "8000/8000 [==============================] - 0s 39us/sample - loss: 0.4010 - accuracy: 0.8344\n",
      "Epoch 67/100\n",
      "8000/8000 [==============================] - 0s 33us/sample - loss: 0.4010 - accuracy: 0.8340\n",
      "Epoch 68/100\n",
      "8000/8000 [==============================] - 0s 31us/sample - loss: 0.4009 - accuracy: 0.8345\n",
      "Epoch 69/100\n",
      "8000/8000 [==============================] - 0s 37us/sample - loss: 0.4008 - accuracy: 0.8342\n",
      "Epoch 70/100\n",
      "8000/8000 [==============================] - 0s 33us/sample - loss: 0.4007 - accuracy: 0.8345\n",
      "Epoch 71/100\n",
      "8000/8000 [==============================] - 0s 36us/sample - loss: 0.4003 - accuracy: 0.8347\n",
      "Epoch 72/100\n",
      "8000/8000 [==============================] - 0s 31us/sample - loss: 0.4006 - accuracy: 0.8361\n",
      "Epoch 73/100\n",
      "8000/8000 [==============================] - 0s 31us/sample - loss: 0.3998 - accuracy: 0.8363\n",
      "Epoch 74/100\n",
      "8000/8000 [==============================] - 0s 32us/sample - loss: 0.4003 - accuracy: 0.8334\n",
      "Epoch 75/100\n",
      "8000/8000 [==============================] - 0s 32us/sample - loss: 0.4001 - accuracy: 0.8350\n",
      "Epoch 76/100\n",
      "8000/8000 [==============================] - 0s 31us/sample - loss: 0.3998 - accuracy: 0.8345\n"
     ]
    },
    {
     "name": "stdout",
     "output_type": "stream",
     "text": [
      "Epoch 77/100\n",
      "8000/8000 [==============================] - 0s 30us/sample - loss: 0.4001 - accuracy: 0.8344\n",
      "Epoch 78/100\n",
      "8000/8000 [==============================] - 0s 29us/sample - loss: 0.3999 - accuracy: 0.8356\n",
      "Epoch 79/100\n",
      "8000/8000 [==============================] - 0s 31us/sample - loss: 0.3997 - accuracy: 0.8338\n",
      "Epoch 80/100\n",
      "8000/8000 [==============================] - 0s 29us/sample - loss: 0.3996 - accuracy: 0.8349\n",
      "Epoch 81/100\n",
      "8000/8000 [==============================] - 0s 29us/sample - loss: 0.3991 - accuracy: 0.8340\n",
      "Epoch 82/100\n",
      "8000/8000 [==============================] - 0s 30us/sample - loss: 0.3992 - accuracy: 0.8354\n",
      "Epoch 83/100\n",
      "8000/8000 [==============================] - 0s 29us/sample - loss: 0.3992 - accuracy: 0.8346\n",
      "Epoch 84/100\n",
      "8000/8000 [==============================] - 0s 28us/sample - loss: 0.3993 - accuracy: 0.8335\n",
      "Epoch 85/100\n",
      "8000/8000 [==============================] - 0s 29us/sample - loss: 0.3990 - accuracy: 0.8345\n",
      "Epoch 86/100\n",
      "8000/8000 [==============================] - 0s 29us/sample - loss: 0.3985 - accuracy: 0.8346\n",
      "Epoch 87/100\n",
      "8000/8000 [==============================] - 0s 31us/sample - loss: 0.3987 - accuracy: 0.8347\n",
      "Epoch 88/100\n",
      "8000/8000 [==============================] - 0s 29us/sample - loss: 0.3987 - accuracy: 0.8356\n",
      "Epoch 89/100\n",
      "8000/8000 [==============================] - 0s 30us/sample - loss: 0.3988 - accuracy: 0.8357\n",
      "Epoch 90/100\n",
      "8000/8000 [==============================] - 0s 29us/sample - loss: 0.3985 - accuracy: 0.8367\n",
      "Epoch 91/100\n",
      "8000/8000 [==============================] - 0s 31us/sample - loss: 0.3985 - accuracy: 0.8351\n",
      "Epoch 92/100\n",
      "8000/8000 [==============================] - 0s 29us/sample - loss: 0.3982 - accuracy: 0.8354\n",
      "Epoch 93/100\n",
      "8000/8000 [==============================] - 0s 29us/sample - loss: 0.3981 - accuracy: 0.8365\n",
      "Epoch 94/100\n",
      "8000/8000 [==============================] - 0s 29us/sample - loss: 0.3982 - accuracy: 0.8341\n",
      "Epoch 95/100\n",
      "8000/8000 [==============================] - 0s 30us/sample - loss: 0.3979 - accuracy: 0.8341\n",
      "Epoch 96/100\n",
      "8000/8000 [==============================] - 0s 29us/sample - loss: 0.3977 - accuracy: 0.8353\n",
      "Epoch 97/100\n",
      "8000/8000 [==============================] - 0s 29us/sample - loss: 0.3977 - accuracy: 0.8359\n",
      "Epoch 98/100\n",
      "8000/8000 [==============================] - 0s 29us/sample - loss: 0.3976 - accuracy: 0.8338\n",
      "Epoch 99/100\n",
      "8000/8000 [==============================] - 0s 30us/sample - loss: 0.3971 - accuracy: 0.8354\n",
      "Epoch 100/100\n",
      "8000/8000 [==============================] - 0s 29us/sample - loss: 0.3982 - accuracy: 0.8345\n"
     ]
    },
    {
     "data": {
      "text/plain": [
       "<tensorflow.python.keras.callbacks.History at 0x2191076ea08>"
      ]
     },
     "execution_count": 22,
     "metadata": {},
     "output_type": "execute_result"
    }
   ],
   "source": [
    "ann.fit(X_train, y_train, batch_size = 32, epochs = 100)"
   ]
  },
  {
   "cell_type": "code",
   "execution_count": 23,
   "metadata": {},
   "outputs": [
    {
     "name": "stdout",
     "output_type": "stream",
     "text": [
      "[[False]]\n"
     ]
    }
   ],
   "source": [
    "print(ann.predict(sc.transform([[1, 0, 0, 600, 1, 40, 3, 60000, 2, 1, 1, 50000]])) > 0.5)"
   ]
  },
  {
   "cell_type": "code",
   "execution_count": 24,
   "metadata": {},
   "outputs": [
    {
     "name": "stdout",
     "output_type": "stream",
     "text": [
      "[[0 0]\n",
      " [0 1]\n",
      " [0 0]\n",
      " ...\n",
      " [0 0]\n",
      " [0 0]\n",
      " [0 0]]\n"
     ]
    }
   ],
   "source": [
    "y_pred = ann.predict(X_test)\n",
    "y_pred = (y_pred > 0.5)\n",
    "print(np.concatenate((y_pred.reshape(len(y_pred),1), y_test.reshape(len(y_test),1)),1))"
   ]
  },
  {
   "cell_type": "code",
   "execution_count": 25,
   "metadata": {},
   "outputs": [
    {
     "name": "stdout",
     "output_type": "stream",
     "text": [
      "[[1533   62]\n",
      " [ 256  149]]\n"
     ]
    },
    {
     "data": {
      "text/plain": [
       "0.841"
      ]
     },
     "execution_count": 25,
     "metadata": {},
     "output_type": "execute_result"
    }
   ],
   "source": [
    "from sklearn.metrics import confusion_matrix, accuracy_score\n",
    "cm = confusion_matrix(y_test, y_pred)\n",
    "print(cm)\n",
    "accuracy_score(y_test, y_pred)"
   ]
  },
  {
   "cell_type": "code",
   "execution_count": null,
   "metadata": {},
   "outputs": [],
   "source": []
  }
 ],
 "metadata": {
  "kernelspec": {
   "display_name": "Python 3",
   "language": "python",
   "name": "python3"
  },
  "language_info": {
   "codemirror_mode": {
    "name": "ipython",
    "version": 3
   },
   "file_extension": ".py",
   "mimetype": "text/x-python",
   "name": "python",
   "nbconvert_exporter": "python",
   "pygments_lexer": "ipython3",
   "version": "3.7.7"
  }
 },
 "nbformat": 4,
 "nbformat_minor": 4
}
